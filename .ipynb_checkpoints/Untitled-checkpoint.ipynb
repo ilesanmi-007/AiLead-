{
 "cells": [
  {
   "cell_type": "markdown",
   "id": "c1eaba21",
   "metadata": {},
   "source": [
    "1. Write a program using the following list and sort it based on the sum of the values of the tuples of the list:\n",
    "\n",
    "[(1,5),(9,0),(12,3),(5,4),(13,6),(1,1)]\n",
    "\n"
   ]
  },
  {
   "cell_type": "code",
   "execution_count": 1,
   "id": "40181335",
   "metadata": {},
   "outputs": [
    {
     "name": "stdout",
     "output_type": "stream",
     "text": [
      "[6, 9, 15, 9, 19, 2]\n"
     ]
    }
   ],
   "source": [
    "a = [(1,5),(9,0),(12,3),(5,4),(13,6),(1,1)]\n",
    "\n",
    "list_1 = [i[0]+i[1] for i in a ]\n",
    "print(list_1)\n"
   ]
  },
  {
   "cell_type": "markdown",
   "id": "f934422c",
   "metadata": {},
   "source": [
    "\n",
    "2. Given a two Python list. Iterate both lists simultaneously such that list1 should display item in original order and list2 in reverse order:\n",
    "\n",
    "list1 = [10, 20, 30, 40], list2 = [100, 200, 300, 400]\n"
   ]
  },
  {
   "cell_type": "code",
   "execution_count": 4,
   "id": "4441aa14",
   "metadata": {},
   "outputs": [
    {
     "data": {
      "text/plain": [
       "[(10, 400), (20, 300), (30, 200), (40, 100)]"
      ]
     },
     "execution_count": 4,
     "metadata": {},
     "output_type": "execute_result"
    }
   ],
   "source": [
    "list1 = [10, 20, 30, 40]\n",
    "list2 = [100, 200, 300, 400]\n",
    "\n",
    "list3 = [(i, j) for (i, j) in zip(list1, reversed(list2))]\n",
    "list3"
   ]
  },
  {
   "cell_type": "markdown",
   "id": "58dfe5ea",
   "metadata": {},
   "source": [
    "3. Given number 1 through 10, write a program to display \"Even\" for even numbers and \"Odd\" for odd numbers"
   ]
  },
  {
   "cell_type": "code",
   "execution_count": 7,
   "id": "30256dd2",
   "metadata": {},
   "outputs": [
    {
     "data": {
      "text/plain": [
       "['Odd', 'Even', 'Odd', 'Even', 'Odd', 'Even', 'Odd', 'Even', 'Odd', 'Even']"
      ]
     },
     "execution_count": 7,
     "metadata": {},
     "output_type": "execute_result"
    }
   ],
   "source": [
    "list1 = [\"Even\" if i%2==0 else \"Odd\" for i in range(1,11) ]\n",
    "list1"
   ]
  },
  {
   "cell_type": "markdown",
   "id": "701891af",
   "metadata": {},
   "source": [
    "4. Write a Python program to count the number of strings where the string length is 2 or more and the first and last character are same from a given list of strings:\n",
    "\n",
    "['abc', 'xyz', 'aba', '1221', 'bhgsskknb', 'aa']"
   ]
  },
  {
   "cell_type": "code",
   "execution_count": 11,
   "id": "721d889e",
   "metadata": {},
   "outputs": [
    {
     "data": {
      "text/plain": [
       "['aba', '1221', 'bhgsskknb', 'aa']"
      ]
     },
     "execution_count": 11,
     "metadata": {},
     "output_type": "execute_result"
    }
   ],
   "source": [
    "list1 = ['abc', 'xyz', 'aba', '1221', 'bhgsskknb', 'aa']\n",
    "\n",
    "listt = [i\n",
    "    for i in list1\n",
    "    if len(i)>=2 and i[0]==i[-1]    \n",
    "]\n",
    "listt"
   ]
  },
  {
   "cell_type": "markdown",
   "id": "3aace8db",
   "metadata": {},
   "source": [
    "5. Given a list of 1 through 10, write a program to display the square root of the even numbers"
   ]
  },
  {
   "cell_type": "code",
   "execution_count": 17,
   "id": "81390010",
   "metadata": {},
   "outputs": [
    {
     "data": {
      "text/plain": [
       "[1.4142135623730951,\n",
       " 2.0,\n",
       " 2.449489742783178,\n",
       " 2.8284271247461903,\n",
       " 3.1622776601683795]"
      ]
     },
     "execution_count": 17,
     "metadata": {},
     "output_type": "execute_result"
    }
   ],
   "source": [
    "listwww = [i**0.5\n",
    "    for i in range(1,11)\n",
    "    if i%2 == 0\n",
    "    \n",
    "]\n",
    "\n",
    "listwww"
   ]
  },
  {
   "cell_type": "markdown",
   "id": "8fca46dd",
   "metadata": {},
   "source": [
    "6. write a program such that  𝑙𝑖𝑠𝑡1  will act as keys while  𝑙𝑖𝑠𝑡2  will act as the values of the dictionary:\n",
    "\n",
    "list1 = [1, 2, 3, 4, 5], list2 = [\"a\", \"b\", \"c\",\"d\", \"e\"]"
   ]
  },
  {
   "cell_type": "code",
   "execution_count": 3,
   "id": "16fc60da",
   "metadata": {},
   "outputs": [
    {
     "data": {
      "text/plain": [
       "[(1, 'a'), (2, 'b'), (3, 'c'), (4, 'd'), (5, 'e')]"
      ]
     },
     "execution_count": 3,
     "metadata": {},
     "output_type": "execute_result"
    }
   ],
   "source": [
    "list1 = [1, 2, 3, 4, 5]\n",
    "\n",
    "list2 = [\"a\", \"b\", \"c\",\"d\", \"e\"]\n",
    "\n",
    "list33 = [(i,j)\n",
    "    for (i,j) in zip(list1, list2)\n",
    "    \n",
    "]\n",
    "\n",
    "list33"
   ]
  },
  {
   "cell_type": "code",
   "execution_count": null,
   "id": "217da669",
   "metadata": {},
   "outputs": [],
   "source": []
  }
 ],
 "metadata": {
  "kernelspec": {
   "display_name": "Python 3",
   "language": "python",
   "name": "python3"
  },
  "language_info": {
   "codemirror_mode": {
    "name": "ipython",
    "version": 3
   },
   "file_extension": ".py",
   "mimetype": "text/x-python",
   "name": "python",
   "nbconvert_exporter": "python",
   "pygments_lexer": "ipython3",
   "version": "3.8.8"
  }
 },
 "nbformat": 4,
 "nbformat_minor": 5
}
